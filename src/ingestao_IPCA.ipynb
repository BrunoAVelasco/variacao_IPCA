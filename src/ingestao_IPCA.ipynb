{
 "cells": [
  {
   "cell_type": "code",
   "execution_count": 0,
   "metadata": {
    "application/vnd.databricks.v1+cell": {
     "cellMetadata": {
      "byteLimit": 2048000,
      "rowLimit": 10000
     },
     "inputWidgets": {},
     "nuid": "067cc7c5-eb44-44ea-9277-9c23ce887965",
     "showTitle": false,
     "tableResultSettingsMap": {},
     "title": ""
    }
   },
   "outputs": [],
   "source": [
    "import requests\n",
    "import json\n",
    "import datetime as dt\n",
    "\n",
    "# Define a URL da API e traz a série histórica do IPCA em formato JSON\n",
    "def get_ipca():\n",
    "    url = 'https://api.bcb.gov.br/dados/serie/bcdata.sgs.10844/dados?formato=json'\n",
    "    # Realiza a requisição GET para a API e armazena a resposta na variável\n",
    "    IPCA = requests.get(url)\n",
    "    IPCA.raise_for_status()\n",
    "    IPCA_data = IPCA.json()\n",
    "    return IPCA_data\n",
    "\n",
    "# Armazena os dados em uma variável específica para salvar\n",
    "def get_ipca_data(IPCA_data):\n",
    "    IPCA_save = IPCA_data\n",
    "    return IPCA_save\n",
    "\n",
    "# Gera a data e hora\n",
    "def get_now():\n",
    "    now = dt.datetime.now().strftime('%Y-%m-%d_%H-%M-%S')\n",
    "    return now\n",
    "\n",
    "\n",
    "# Define o caminho e nome do arquivo JSON a ser salvo no volume (no Databricks DBFS)\n",
    "def save_ipca_data(now):\n",
    "    path = f'/Volumes/raw/ipca_bronze/ipca_raw/ipca_{now}.json'\n",
    "    return path\n",
    "\n",
    "# Abre o caminho definido e escreve o conteúdo JSON dos dados coletados\n",
    "def save_ipca_json(path, IPCA_save):\n",
    "    with open(path, 'w') as f:\n",
    "        json.dump(IPCA_save, f)\n",
    "    return path\n",
    "\n",
    "# Executa o passo a passo para salvar os dados\n",
    "def main():\n",
    "    IPCA_data = get_ipca()\n",
    "    IPCA_save = get_ipca_data(IPCA_data)\n",
    "    now = get_now()\n",
    "    path = save_ipca_data(now)\n",
    "    save_ipca_json(path, IPCA_save)\n",
    "    return path\n",
    "main()\n"
   ]
  }
 ],
 "metadata": {
  "application/vnd.databricks.v1+notebook": {
   "computePreferences": null,
   "dashboards": [],
   "environmentMetadata": {
    "base_environment": "",
    "environment_version": "2"
   },
   "language": "python",
   "notebookMetadata": {
    "pythonIndentUnit": 4
   },
   "notebookName": "ingestao_IPCA",
   "widgets": {}
  },
  "language_info": {
   "name": "python"
  }
 },
 "nbformat": 4,
 "nbformat_minor": 0
}
