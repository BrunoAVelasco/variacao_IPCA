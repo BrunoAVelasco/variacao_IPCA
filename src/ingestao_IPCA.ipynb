{
 "cells": [
  {
   "cell_type": "code",
   "execution_count": 0,
   "metadata": {
    "application/vnd.databricks.v1+cell": {
     "cellMetadata": {
      "byteLimit": 2048000,
      "rowLimit": 10000
     },
     "inputWidgets": {},
     "nuid": "067cc7c5-eb44-44ea-9277-9c23ce887965",
     "showTitle": false,
     "tableResultSettingsMap": {},
     "title": ""
    }
   },
   "outputs": [],
   "source": [
    "# Importa as bibliotecas necessárias\n",
    "import requests\n",
    "import json\n",
    "import datetime as dt\n",
    "\n",
    "# Define a URL da API do Banco Central que traz a série histórica do IPCA em formato JSON\n",
    "url = 'https://api.bcb.gov.br/dados/serie/bcdata.sgs.10844/dados?formato=json'\n",
    "\n",
    "# Realiza a requisição GET para a API e armazena a resposta na variável 'IPCA'\n",
    "IPCA = requests.get(url)\n",
    "IPCA_data = IPCA.json()\n",
    "\n",
    "# Armazena os dados retornados (já no formato de lista) em uma variável específica para salvar no Bronze\n",
    "IPCA_save = IPCA_data\n",
    "\n",
    "# Gera a data e hora atual, formatada para ser usada no nome do arquivo (formato: ano-mês-dia_hora-minuto-segundo)\n",
    "now = dt.datetime.now().strftime('%Y-%m-%d_%H-%M-%S')\n",
    "\n",
    "# Define o caminho e nome do arquivo JSON a ser salvo no volume (no Databricks DBFS)\n",
    "# O arquivo será salvo na pasta 'ipca_raw', com o timestamp no nome\n",
    "path = f'/Volumes/raw/ipca_bronze/ipca_raw/ipca_{now}.json'\n",
    "\n",
    "# Abre o caminho definido e escreve o conteúdo JSON dos dados coletados\n",
    "with open(path, 'w') as f:\n",
    "    json.dump(IPCA_save, f)\n"
   ]
  }
 ],
 "metadata": {
  "application/vnd.databricks.v1+notebook": {
   "computePreferences": null,
   "dashboards": [],
   "environmentMetadata": {
    "base_environment": "",
    "environment_version": "2"
   },
   "language": "python",
   "notebookMetadata": {
    "pythonIndentUnit": 4
   },
   "notebookName": "ingestao_IPCA",
   "widgets": {}
  },
  "language_info": {
   "name": "python"
  }
 },
 "nbformat": 4,
 "nbformat_minor": 0
}
