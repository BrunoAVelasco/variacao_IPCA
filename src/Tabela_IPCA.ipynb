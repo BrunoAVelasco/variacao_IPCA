{
 "cells": [
  {
   "cell_type": "code",
   "execution_count": 0,
   "metadata": {
    "application/vnd.databricks.v1+cell": {
     "cellMetadata": {
      "byteLimit": 2048000,
      "rowLimit": 10000
     },
     "inputWidgets": {},
     "nuid": "16283e0f-ba45-4c39-b12f-d10479353ded",
     "showTitle": false,
     "tableResultSettingsMap": {},
     "title": ""
    }
   },
   "outputs": [],
   "source": [
    "#importa bibliotecas\n",
    "from pyspark.sql.functions import col, to_date\n",
    "\n",
    "# Lê os dados brutos da camada bronze\n",
    "df_bronze = spark.read.json('/Volumes/raw/ipca_bronze/ipca_raw')\n",
    "\n",
    "# Cria o schema (caso ainda não exista)\n",
    "spark.sql(\"CREATE SCHEMA IF NOT EXISTS silver\")\n",
    "\n",
    "# Dropar a tabela caso já exista com schema antigo\n",
    "spark.sql(\"DROP TABLE IF EXISTS silver.ipca_silver\")\n",
    "\n",
    "# Tratamento: conversão de tipos\n",
    "df_silver = (df_bronze\n",
    "    .withColumn(\"data\", to_date(col(\"data\"), \"dd/MM/yyyy\"))\n",
    "    .withColumn(\"valor\", col(\"valor\").cast(\"double\"))  \n",
    "    .dropDuplicates()        \n",
    "    .na.drop()                                        \n",
    ")\n",
    "\n",
    "# Salva o dataframe tratado como tabela delta na camada silver\n",
    "(df_silver.distinct()  # remove duplicatas\n",
    "   .coalesce(1) # grava em um único arquivo (opcional)\n",
    "   .write\n",
    "   .format('delta')\n",
    "   .mode('overwrite')\n",
    "   .saveAsTable('silver.ipca_silver')  # salva no catálogo dentro do schema silver\n",
    ")"
   ]
  }
 ],
 "metadata": {
  "application/vnd.databricks.v1+notebook": {
   "computePreferences": null,
   "dashboards": [],
   "environmentMetadata": {
    "base_environment": "",
    "environment_version": "2"
   },
   "language": "python",
   "notebookMetadata": {
    "pythonIndentUnit": 4
   },
   "notebookName": "Tabela_IPCA",
   "widgets": {}
  },
  "language_info": {
   "name": "python"
  }
 },
 "nbformat": 4,
 "nbformat_minor": 0
}
