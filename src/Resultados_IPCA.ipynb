{
 "cells": [
  {
   "cell_type": "code",
   "execution_count": 0,
   "metadata": {
    "application/vnd.databricks.v1+cell": {
     "cellMetadata": {
      "byteLimit": 2048000,
      "rowLimit": 10000
     },
     "inputWidgets": {},
     "nuid": "c9834cbe-006f-4581-830a-3ffad5b6a9cf",
     "showTitle": false,
     "tableResultSettingsMap": {},
     "title": ""
    }
   },
   "outputs": [],
   "source": [
    "from pyspark.sql import functions as F\n",
    "\n",
    "# Carrega a tabela da camada silver\n",
    "def read_silver():\n",
    "    df_silver = spark.table(\"silver.ipca_silver\")\n",
    "    return df_silver\n",
    "\n",
    "# Trata coluna ano\n",
    "def year(df_silver):\n",
    "    df_silver = df_silver.withColumn(\"ano\", F.year(F.col(\"data\")))\n",
    "    return df_silver\n",
    "\n",
    "# Agrupa por ano e calcula o IPCA acumulado (soma dos valores mensais)\n",
    "def accumulated(df_silver):\n",
    "    return(\n",
    "        df_silver.groupBy(\"ano\")\n",
    "        .agg(F.sum(\"valor\").alias(\"ipca_acumulado\"))\n",
    "        .orderBy(\"ano\")\n",
    "        # Filtra últimos 20 anos\n",
    "        .filter(F.col(\"ano\") >= (F.year(F.current_date()) - 20))\n",
    "    )\n",
    "\n",
    "# Salva a tabela IPCA acumulado na camada gold\n",
    "def write_accumulated(df_anual):\n",
    "    (df_anual.write\n",
    "        .format(\"delta\")\n",
    "        .mode(\"overwrite\")\n",
    "        .saveAsTable(\"gold.ipca_anual\"))\n",
    "\n",
    "# KPI - média dos últimos 5 anos, desconsiderando 2020 e 2021\n",
    "def average_5_years(df_anual):\n",
    "    ano_atual = int(df_anual.agg(F.max(\"ano\")).first()[0])\n",
    "    ultimos_5_anos = [ano for ano in range(ano_atual - 4, ano_atual + 1) if ano not in [2020, 2021]]\n",
    "    return df_anual.filter(F.col(\"ano\").isin(ultimos_5_anos)).agg(F.avg(\"ipca_acumulado\")).first()[0]\n",
    "\n",
    "# Ano com maior IPCA\n",
    "def bigger_year(df_anual):\n",
    "    row = df_anual.orderBy(F.desc(\"ipca_acumulado\")).first()\n",
    "    return row[\"ano\"], row[\"ipca_acumulado\"]\n",
    "\n",
    "\n",
    "# Ano com menor IPCA\n",
    "def smaller_year(df_anual):\n",
    "    row = df_anual.orderBy(F.asc(\"ipca_acumulado\")).first()\n",
    "    return row[\"ano\"], row[\"ipca_acumulado\"]\n",
    "\n",
    "# Cria um dataframe com os KPIs\n",
    "def kpi_dataframe(media_5_anos, maior_ipca_ano, maior_ipca_valor, menor_ipca_ano, menor_ipca_valor):\n",
    "    kpi_data = [(media_5_anos, maior_ipca_ano, maior_ipca_valor, menor_ipca_ano, menor_ipca_valor)]\n",
    "    kpi_columns = [\n",
    "        \"media_ipca_5_anos_sem_pandemia\",\n",
    "        \"maior_ipca_ano\",\n",
    "        \"maior_ipca_valor\",\n",
    "        \"menor_ipca_ano\",\n",
    "        \"menor_ipca_valor\"\n",
    "    ]\n",
    "    return spark.createDataFrame(kpi_data, kpi_columns)\n",
    "\n",
    "# Salva a tabela de KPIs na camada gold\n",
    "def write_kpis(df_kpi):\n",
    "    (df_kpi.write\n",
    "        .format(\"delta\")\n",
    "        .mode(\"overwrite\")\n",
    "        .saveAsTable(\"gold.ipca_kpis\")\n",
    "    )\n",
    "\n",
    "# Executa o passo a passo e salva em duas tabelas\n",
    "def main():\n",
    "    df_silver = read_silver()\n",
    "    df_silver = year(df_silver)\n",
    "    df_anual = accumulated(df_silver)\n",
    "    write_accumulated(df_anual)\n",
    "    media_5_anos = average_5_years(df_anual)\n",
    "    maior_ipca_ano, maior_ipca_valor = bigger_year(df_anual)\n",
    "    menor_ipca_ano, menor_ipca_valor = smaller_year(df_anual)\n",
    "    df_kpi = kpi_dataframe(media_5_anos, maior_ipca_ano, maior_ipca_valor, menor_ipca_ano, menor_ipca_valor)\n",
    "    write_kpis(df_kpi)\n",
    "    return df_anual, df_kpi\n",
    "main()"
   ]
  }
 ],
 "metadata": {
  "application/vnd.databricks.v1+notebook": {
   "computePreferences": null,
   "dashboards": [],
   "environmentMetadata": {
    "base_environment": "",
    "environment_version": "2"
   },
   "language": "python",
   "notebookMetadata": {
    "pythonIndentUnit": 4
   },
   "notebookName": "Resultados_IPCA",
   "widgets": {}
  },
  "language_info": {
   "name": "python"
  }
 },
 "nbformat": 4,
 "nbformat_minor": 0
}
